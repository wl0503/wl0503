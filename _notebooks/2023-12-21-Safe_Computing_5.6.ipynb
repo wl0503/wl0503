{
 "cells": [
  {
   "cell_type": "markdown",
   "metadata": {},
   "source": [
    "---\n",
    "toc: true\n",
    "comments: true\n",
    "layout: post\n",
    "title: Safe Computing\n",
    "courses: { compsci: {week: 17} }\n",
    "type: hacks\n",
    "---"
   ]
  },
  {
   "cell_type": "markdown",
   "metadata": {},
   "source": [
    "### Essential Knowledge:\n",
    "\n",
    "<font color=\"yellow\">\n",
    "\n",
    "**IOC-2.A.5** Technology enables the collection, use, and exploitation of information about, by, and for individuals, groups, and institutions.\n",
    "\n",
    "**IOC-2.A.6** Search engines can use search history to suggest websites or for targeted marketing.\n",
    "\n",
    "**IOC-2.A.7** Disparate personal data, such as geolocation, cookies, and browsing history, can be aggregated to create knowledge about an individual.\n",
    "\n",
    "**IOC-2.B** Explain how computing resources can be protected and can be misused.\n",
    "\n",
    "**IOC-2.C** Explain how unauthorized access to computing resources is gained.\n",
    "</font>"
   ]
  },
  {
   "cell_type": "markdown",
   "metadata": {},
   "source": [
    "# Safe Computing\n",
    "\n",
    "<font color=\"yellow\">\n",
    "\n",
    "**IOC-2.A.5** Technology enables the collection, use, and exploitation of information about, by, and for individuals, groups, and institutions.\n",
    "\n",
    "**IOC-2.A.6** Search engines can use search history to suggest websites or for targeted marketing.\n",
    "\n",
    "**IOC-2.A.7** Disparate personal data, such as geolocation, cookies, and browsing history, can be aggregated to create knowledge about an individual.\n",
    "</font>"
   ]
  },
  {
   "cell_type": "markdown",
   "metadata": {},
   "source": [
    "## Personal Identifiable Information (PII)"
   ]
  },
  {
   "cell_type": "markdown",
   "metadata": {},
   "source": [
    "Personal Identifiable Information (PII): Information about someone that can be used to identify them.\n",
    "\n",
    "- Name\n",
    "\n",
    "- Race\n",
    "\n",
    "- Age\n",
    "\n",
    "- Phone number\n",
    "\n",
    "- DOB\n",
    "\n",
    "- Email\n",
    "\n",
    "- Address\n",
    "\n",
    "- Credit Card\n",
    "\n",
    "- Medical Information \n",
    "\n",
    "- Biometric Data\n",
    "\n",
    "Credit card, medical, and biometric information can not be shared without your consent.\n",
    "\n",
    "Others can use it to steal your identity, money, or other personal information.\n",
    "\n",
    "Search engines collect information without you knowing. They collect information about a user’s devices, networks, and websites visited and often use it to suggest things for you. The information we put out there is often there permanently.\n"
   ]
  },
  {
   "cell_type": "markdown",
   "metadata": {},
   "source": [
    "### Good and bad things about PII"
   ]
  },
  {
   "cell_type": "markdown",
   "metadata": {},
   "source": [
    "Good:\n",
    "\n",
    "- It can be used to enhance user experience by suggesting things that you like\n",
    "\n",
    "- The user can access websites and other info by looking at their history\n",
    "\n",
    "Bad:\n",
    "\n",
    "- Others can exploit it to access a user’s personal information\n",
    "\n",
    "- Ex: If you book a trip to another country, this is what happens\n",
    "\n",
    "     - The search engine knows all the details of your trip, such as dates, places, hotels, etc.\n",
    "\n",
    "     - The second you search something up, it knows your IP address and email (from your user info)\n",
    "\n",
    "     - Your internet service provider provides your name and address\n",
    "\n",
    "     - The federal government has access to where you are traveling\n",
    "\n",
    "     - Dozens of sites are tracking your information via your use of cookies\n",
    "\n",
    "     - And even when you don’t have a device, cameras might be tracking you\n",
    "\n",
    "**Risk to Privacy**\n",
    "\n",
    "- Information you put online is very difficult to delete\n",
    "\n",
    "- Information that you put online, knowingly or unknowingly can be used to know very personal information that you might not intend to share."
   ]
  },
  {
   "cell_type": "markdown",
   "metadata": {},
   "source": [
    "### <font color = \"Green\">Popcorn Hack 1:</font> \n",
    "\n",
    "List at least three apps or websites that might use PII:\n",
    "\n",
    "- 1: spotify (algorithm that suggest what you like in terms of song)\n",
    "- 2: youtube (algorithm that suggest what you like in terms of youtube video)\n",
    "- 3: hospital website (the website tracks the patient's personal information)"
   ]
  },
  {
   "cell_type": "markdown",
   "metadata": {},
   "source": [
    "## Authentication\n",
    "<font color=\"yellow\">\n",
    "\n",
    "**IOC-2.B** Explain how computing resources can be protected and can be misused.\n",
    "</font>\n",
    "\n",
    "Authentication measures protect devices and information from unauthorized access"
   ]
  },
  {
   "cell_type": "markdown",
   "metadata": {},
   "source": [
    "Authentication measures:\n",
    "\n",
    "- Strong passwords\n",
    "\n",
    "- Multi-factor authentication\n",
    "\n",
    "Strong Passwords:\n",
    "\n",
    "- 10 or more characters\n",
    "\n",
    "- Must contain a symbol\n",
    "\n",
    "- Must contain a number\n",
    "\n",
    "- Must contain lowercase and uppercase letters\n"
   ]
  },
  {
   "cell_type": "markdown",
   "metadata": {},
   "source": [
    "Multi-Factor Authentication \n",
    "\n",
    "- Types of Authentication:\n",
    "\n",
    "    - What You Know (IE: Your Password)\n",
    "\n",
    "    - What You Have (IE: Personal Information)\n",
    "\n",
    "    - What You Are (IE: Fingerprint)\n",
    "\n",
    "- Why Use? \n",
    "    - Multi-Factor Authentication ensures that there's two steps before gaining access to personal or important information instead of strictly using a password. Examples of this are connecting phone numbers to accounts or connecting emails to accounts.   \n",
    "\n",
    "        \n",
    "- Viruses and Malware:\n",
    "\n",
    "    - Viruses: Malicious programs that can copy themselves and gain access to systems that they are not supposed to be allowed in\n",
    "\n",
    "    - Malware: Often intended to damage a computing system or take partial control over its operation\n",
    "\n",
    "        - It can infiltrate a system by posing as legitimate programs or by attaching itself to legitimate programs, like an email attachment\n",
    "\n",
    "    - Virus scans can help to prevent malicious code from getting into and affecting your system\n",
    "\n",
    "Encryption and Decryption:\n",
    "\n",
    "- Once legitimate access to a system is gained, it is important to ensure data sent to and from the system remains uncompromised\n",
    "\n",
    "- Encryption: The process of encoding data to prevent unauthorized access\n",
    "\n",
    "- Decryption: The process of decoding data\n",
    "\n",
    "    - Two Types\n",
    "\n",
    "        - Symmetric Encryption: one key used to both encrypt and decrypt data (IE: Caesar Cipher)\n",
    "\n",
    "        - Asymmetric encryption\n",
    "            \n",
    "            - Public Key Encryption: uses two keys\n",
    "            \n",
    "                - A public key for encrypting\n",
    "            \n",
    "                - A private key for decrypting\n",
    "            \n",
    "            - A sender does not need the receiver’s private key to encrypt a message\n",
    "            \n",
    "            - The receiver’s private key IS required to decrypt the message\n"
   ]
  },
  {
   "cell_type": "markdown",
   "metadata": {},
   "source": [
    "Digital certificates:\n",
    "\n",
    "A certificate authorities issue digital certificates that validate the ownership of encryption keys used in secure communication and are based on a trust model. It makes sure that the decryption key that people recieve are issued by users or owners that own a true trusted key.\n"
   ]
  },
  {
   "cell_type": "markdown",
   "metadata": {},
   "source": [
    "### <font color = \"Green\">Popcorn Hack 2:</font>\n",
    "\n",
    "Create an encrypted code using symmetric encryption, and provide the code, and the actual message:\n",
    "encrypted message: #$23423423423235sdjsdsdf\n",
    "actual meaning: hello, William. \n"
   ]
  },
  {
   "cell_type": "markdown",
   "metadata": {},
   "source": [
    "## Risk Factors\n",
    "\n",
    "<font color=\"yellow\">\n",
    "\n",
    "**IOC-2.C** Explain how computing resources can be protected and can be misused.\n",
    "</font>"
   ]
  },
  {
   "cell_type": "markdown",
   "metadata": {},
   "source": [
    "- Phishing: Tricking a user into giving personal information such as usernames, passwords, account numbers, or social security numbers.\n",
    "\n",
    "    - Phishing emails: These emails look like companies you know and trust. These fake emails will trick you into clicking a link or an attachment\n",
    "\n",
    "        - These links will either put a virus on your computer, send you to a website that looks like the real thing,  or a keylogger.\n",
    "\n",
    "- Keylogger: records keys typed on the keyboard to gain access to a username, password, or any other personal information.\n",
    "\n",
    "    - How do keyloggers get onto your computer?\n",
    "\n",
    "        - One way is by plugging in a physical device to your computer.\n",
    "\n",
    "        - Phishing emails through links\n",
    "\n",
    "        - Clicking on a bad website\n",
    "\n",
    "- Rogue access point: wireless network giving unauthorized access to secure networks\n",
    "\n",
    "    - People intercept data traveled as it travels through networks.\n",
    "\n",
    "        - Ex: A router installed in a secure network within an organization. A person could easily access the network and install any software, intercept communication, or steal network information.\n",
    "\n",
    "    - Normal people trying to access their computers more easily leads to a lack of security. This makes it easy for other people to access the network."
   ]
  },
  {
   "cell_type": "markdown",
   "metadata": {},
   "source": [
    "### <font color = \"Green\">Popcorn Hack 3:</font>\n",
    "\n",
    "Go to a website that checks your password and make a strong password.\n",
    "I went to youtube, and changed my password: seungs0710@1QQW1234@NB~~"
   ]
  },
  {
   "cell_type": "markdown",
   "metadata": {},
   "source": [
    "### Homework\n",
    "\n",
    "**Please answer these questions and send them to Daniel Lee on Slack. Graded on accuracy.**\n",
    "\n",
    "    What is Personal Identifiable Information (PII), and list three examples of it?\n",
    "    Information that can identify certain individuals. \n",
    "    Three examples of informations can be their name, race, and age. \n",
    "\n",
    "\n",
    "    What is a possible risk or cons to using PII?\n",
    "    Your information(PII) you store in the website can be tracked and used by malicious attacker. \n",
    "\n",
    "\n",
    "    What are traits of a strong password?\n",
    "    it blocks easy access of others to use your personal information, preventing unauthorized access from unknown people. \n",
    "\n",
    "    What does having a strong password prevent?\n",
    "    it prevents unauthorized access of others to exploit your personal information\n",
    "\n",
    "    What are the two types of encryption and what is the difference between the two?\n",
    "    Two types of encryptions are symmetric encryption and asymmetric encryption\n",
    "    Symmetric encryption uses a single key to encrypt and decrypt\n",
    "    Asymmetirc encryption uses public key and private key pairing\n",
    "\n",
    "    What is phishing?\n",
    "    It is to trick users into giving their personal informations such as phone number and email address\n",
    "\n",
    "    What is a way a keylogger can get into your computer?\n",
    "    By baiting users to acccess bad website or click in email that is for phishing. \n",
    "\n",
    "    What is a rogue access point and how is it used?\n",
    "    It is wireless network that gives unauthorized access to secure networks. \n",
    "    By doing so, this unauthroized access facilitates any malicious attacks such as stealing network information\n"
   ]
  }
 ],
 "metadata": {
  "language_info": {
   "name": "python"
  },
  "orig_nbformat": 4
 },
 "nbformat": 4,
 "nbformat_minor": 2
}
