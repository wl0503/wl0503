{
 "cells": [
  {
   "cell_type": "markdown",
   "metadata": {},
   "source": [
    "---\n",
    "toc: true\n",
    "comments: false\n",
    "layout: post\n",
    "title: Legal and Ethical Concerns\n",
    "type: plans\n",
    "courses: { compsci: {week: 4} }\n",
    "---"
   ]
  },
  {
   "cell_type": "markdown",
   "metadata": {},
   "source": [
    "Essential Knowledge \n",
    "- IOC-1.F.1 Material created on a computer is the intellectual property of the creator or an organization. \n",
    "- IOC-1.F.2 Ease of access and distribution of digitized information raises intellectual property concerns regarding ownership, value, and use. \n",
    "- IOC-1.F.3 Measures should be taken to safeguard intellectual property. \n",
    "- IOC-1.F.4 The use of material created by someone else without permission and presented as one’s own is plagiarism and may have legal consequences.\n",
    "- IOC-1.F.6 The use of material created by someone other than you should always be cited. \n",
    "- IOC-1.F.7 Creative Commons, open source, and open access have enabled broad access to digital information.\n",
    "- IOC-1.F.8 As with any technology or medium, using computing to harm individuals or groups of people raises legal and ethical concerns. \n",
    "- IOC-1.F.9 Computing can play a role in social and political issues, which in turn often raises legal and ethical concerns."
   ]
  },
  {
   "cell_type": "markdown",
   "metadata": {},
   "source": [
    "## What is intellectual property?\n",
    "\n",
    "Intellectual property is a work or invention that is the result of creativity, to which one has rights over. \n",
    "\n",
    "In the modernized world today, intellectual property can be shared more easily now through the Internet. This raises concerns about who owns something that was created digitally. \n"
   ]
  },
  {
   "cell_type": "markdown",
   "metadata": {},
   "source": [
    "## Copyright\n",
    "\n",
    "Copyright protects your IP and keeps anyone else from using it, unless they have permission. Anything you create like a picture u took or a digital drawing, you automatically own an “All rights reserved” copyright. If we pretend that material is our own then it becomes plagiarism \n",
    "\n",
    "There are ways to create material for others to use: \n",
    "\n",
    "Creative Commons\n",
    "- Provides free licenses that you can use to tell others how you want them to use your creation\n",
    "- Examples: If you draw a picture and you want other people to use and distribute it without asking for permission. If you have a song that you want to freely share \n",
    "- It clearly outlines whether certain people can use it for creative commons, whether it’s commercial or for another reason \n",
    "\n",
    "Open Source\n",
    "- Are open for anyone to use and the IP can modified in whatever ways people want, thus encouraging open collaboration \n",
    "- Refers exclusively to software\n",
    "\n",
    "Open Access \n",
    "- Online research output free of any restrictions (like copyright or licesnse restrictions) and free of use so people can use this however they wish\n",
    "- Example: Open access databases with journals and research papers for others to reference and use"
   ]
  },
  {
   "cell_type": "markdown",
   "metadata": {},
   "source": [
    "## <font color = \"FFC0C9\"> Popcorn Hack 1 </font> \n",
    "\n",
    "- Give an example of an open source software and explain why it is an open source. \n",
    "Open source: Python. Python is an open source 'software' that we can currently use for free without any restrictions. "
   ]
  },
  {
   "cell_type": "markdown",
   "metadata": {},
   "source": [
    "## Legal/Ethical Concerns\n",
    "\n",
    "No matter how you use something, it’s still important to cite information and give credit where it belongs. There is so information at our fingertips and though open source programs may be created with good intentions, people will sometimes use these open sources and modify them to harm individuals or groups. \n",
    "\n",
    "There are legal concerns regarding computing devices that collect and analyze data by monitoring individual activity. Digital media downloads can sometimes include viruses and harmful programs\n",
    "\n",
    "#### Digital Divide and Bias \n",
    "\n",
    "Some softwares may include algorithms with bias. The training data for the software might underrepresent certain groups or demographics. Lack of fairness in algorithmic decision-making can perpetuate societal inequalities.\n",
    "\n",
    "The digital divide is the unequal distribution of access to technology Although the Internet provides all these resources for us to use, certain groups of people do not have the technology readily available for them to use. These databases and online resources are only beneficial to those who have the opportunities and privileges to understand and access technology. \n"
   ]
  },
  {
   "cell_type": "markdown",
   "metadata": {},
   "source": [
    "## <font color = \"FFC0C9\"> Popcorn Hack 2 </font> \n",
    "\n",
    "- What is another legal or ethical concern regarding intellectual property in technology?\n",
    "One legal concern is that unique ideas or designs in technology can be exposed to the risk of unauthorized copying. "
   ]
  },
  {
   "cell_type": "markdown",
   "metadata": {},
   "source": [
    "## <font color = \"yellow\"> Homework </font> \n",
    "\n",
    "Complete these five free response questions and send them to Taj on slack by December 21, 11:59 pm. You will be graded on how much effort you put into your answer. \n",
    "\n",
    "1. What is the difference between open source and open access? \n",
    "Open source and open access are the two similar terms that enable users to use for free \n",
    "THe difference between them is that users can modify the open source, and for open access, they can only access it unaccompanied by affecting it. \n",
    "\n",
    "2. What is the importance of copyright?\n",
    "Copyright protects anyone else from using it and reveals the owner of the certain creation, preventing any legal concerns concerning who made the creation. \n",
    "\n",
    "3. What is a way people can harm individuals or groups through open source data? \n",
    "Even though open source data is made with good intention which is for people to use it free, this free sources sometimes are vulnerable for modification of it, which generates the probability to harm individuals or any groups by someone who altered sources in a bad way on purpose. \n",
    "\n",
    "4. What term describes the uequal distribution of access to technology? \n",
    "The term digital divide describes the unequal distribution of access to technology, which states that certain minorities are unable to access the internet readily, benefiting to only those who have opportunities in using the interent without any restriction. \n",
    "\n",
    "5. How do you see intellectual property in 20 years (be creative)?\n",
    "I think the laws concerning intellectual property will be reinforced than before in 20 years to prevent ongoing-unauthorized copying. "
   ]
  }
 ],
 "metadata": {
  "language_info": {
   "name": "python"
  }
 },
 "nbformat": 4,
 "nbformat_minor": 2
}
