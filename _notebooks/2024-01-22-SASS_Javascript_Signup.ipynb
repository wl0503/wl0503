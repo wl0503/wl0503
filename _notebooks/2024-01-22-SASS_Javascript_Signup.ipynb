{
 "cells": [
  {
   "cell_type": "markdown",
   "metadata": {},
   "source": [
    "---\n",
    "toc: true\n",
    "comments: true\n",
    "layout: post\n",
    "title: SASS Javascript Login and Signup Page\n",
    "description: Team teach about SASS Javascript login and signup page\n",
    "courses: { compsci: {week: 20} }\n",
    "type: hacks\n",
    "---"
   ]
  },
  {
   "cell_type": "markdown",
   "metadata": {},
   "source": [
    "## What exactly is SASS?\n",
    "- SASS stands for Syntactically Awesome Stylesheet\n",
    "- SASS adds extra toools to make styling websites easier and faster. Is is essentially a way to make writing and organzing styles more convinient."
   ]
  },
  {
   "cell_type": "markdown",
   "metadata": {},
   "source": [
    "### 1. Why use SASS for your Javascript Login and Signup Page?\n",
    "- SASS allows you to write flexible and organized stylesheets by using features like variables, mixins, and nesting. This can make your code more maintainable and easier to understand, especially as your project grows\n",
    "- SASS allows you to use variables to store values, such as colors or font sizes\n",
    "- SASS code can be compiled into regular CSS, ensuring compatibility with all browsers"
   ]
  },
  {
   "cell_type": "markdown",
   "metadata": {},
   "source": [
    "### Variables in SASS:\n",
    "- Variables in SASS allow you to store values that you can reuse throughout your stylesheet. For instance, you can use them for colors, font sizes, or any other value you want to reuse. This makes it easy to maintain a consistent look and feel across your application."
   ]
  },
  {
   "cell_type": "code",
   "execution_count": 1,
   "metadata": {
    "vscode": {
     "languageId": "javascript"
    }
   },
   "outputs": [
    {
     "ename": "SyntaxError",
     "evalue": "invalid syntax (2643766738.py, line 1)",
     "output_type": "error",
     "traceback": [
      "\u001b[0;36m  Cell \u001b[0;32mIn[1], line 1\u001b[0;36m\u001b[0m\n\u001b[0;31m    $primary-color: #3498db;\u001b[0m\n\u001b[0m    ^\u001b[0m\n\u001b[0;31mSyntaxError\u001b[0m\u001b[0;31m:\u001b[0m invalid syntax\n"
     ]
    }
   ],
   "source": [
    "$primary-color: #3498db;\n",
    "body {\n",
    "  background-color: $primary-color;\n",
    "}"
   ]
  },
  {
   "cell_type": "markdown",
   "metadata": {},
   "source": [
    "### Mixins for Reusable Styles:\n",
    "- Mixins are a powerful feature in SASS that lets you define a set of styles and reuse them throughout your stylesheet. This allows for a cleaner and more modular code by encapsulating styles into reusable patterns.\n"
   ]
  },
  {
   "cell_type": "code",
   "execution_count": null,
   "metadata": {
    "vscode": {
     "languageId": "javascript"
    }
   },
   "outputs": [],
   "source": [
    "@mixin button-styles {\n",
    "    background-color: $primary-color;\n",
    "    color: #fff;\n",
    "    padding: 10px 20px;\n",
    "    border: none;\n",
    "    border-radius: 5px;\n",
    "  }\n",
    "  button {\n",
    "    @include button-styles;\n",
    "  }  "
   ]
  },
  {
   "cell_type": "markdown",
   "metadata": {},
   "source": [
    "### Nesting in SASS:\n",
    "- SASS allows you to nest your styles which makes your stylesheet more readable and mirroring the HTML structure. This feature enhances maintainability and helps you visualize the hierarchy of your styles."
   ]
  },
  {
   "cell_type": "code",
   "execution_count": null,
   "metadata": {
    "vscode": {
     "languageId": "javascript"
    }
   },
   "outputs": [],
   "source": [
    "nav {\n",
    "    background-color: $primary-color;\n",
    "    ul {\n",
    "      list-style: none;\n",
    "      li {\n",
    "        display: inline-block;\n",
    "        margin-right: 10px;\n",
    "        a {\n",
    "          color: #fff;\n",
    "          text-decoration: none;\n",
    "        }\n",
    "      }\n",
    "    }\n",
    "  }  "
   ]
  },
  {
   "cell_type": "markdown",
   "metadata": {},
   "source": [
    "## JavaScript Integration\n",
    "### Handling Asynchronous Requests:\n",
    "- Asynchronous programming in JavaScript is crucial for tasks like fetching data from a server without blocking other operations. In the context of a login/signup page, it ensures a smooth user experience while the authentication process is underway."
   ]
  },
  {
   "cell_type": "code",
   "execution_count": null,
   "metadata": {
    "vscode": {
     "languageId": "javascript"
    }
   },
   "outputs": [],
   "source": [
    "async function loginUser(username, password) {\n",
    "    // Asynchronous logic using Fetch API\n",
    "  }  "
   ]
  },
  {
   "cell_type": "markdown",
   "metadata": {},
   "source": [
    "### Fetch API:\n",
    "- The Fetch API is a modern JavaScript API for making network requests. It simplifies the process of sending HTTP requests and handling responses. It is widely used for AJAX-style requests in web applications."
   ]
  },
  {
   "cell_type": "code",
   "execution_count": null,
   "metadata": {
    "vscode": {
     "languageId": "javascript"
    }
   },
   "outputs": [],
   "source": [
    "fetch('https://api.example.com/login', {\n",
    "  method: 'POST',\n",
    "  headers: {\n",
    "    'Content-Type': 'application/json',\n",
    "  },\n",
    "  body: JSON.stringify({ username: 'user', password: 'pass' }),\n",
    "});\n"
   ]
  },
  {
   "cell_type": "markdown",
   "metadata": {},
   "source": [
    "### Sending POST Requests:\n",
    "- In the context of a login/signup page, sending a POST request is fundamental for securely transmitting user credentials to the server. The Fetch API is employed to initiate this request, and the 'POST' method indicates the intention to submit data."
   ]
  },
  {
   "cell_type": "code",
   "execution_count": null,
   "metadata": {
    "vscode": {
     "languageId": "javascript"
    }
   },
   "outputs": [],
   "source": [
    "async function loginUser(username, password) {\n",
    "    const response = await fetch('https://api.example.com/login', {\n",
    "      method: 'POST',\n",
    "      headers: {\n",
    "        'Content-Type': 'application/json',\n",
    "      },\n",
    "      body: JSON.stringify({ username, password }),\n",
    "    });\n",
    "  \n",
    "    const data = await response.json();\n",
    "    // Handle response data\n",
    "  }  "
   ]
  },
  {
   "cell_type": "markdown",
   "metadata": {},
   "source": [
    "### Error Handling for HTTP Status Codes:\n",
    "- Proper error handling is essential for providing a meaningful user experience. This section covers how to handle various HTTP status codes returned by the server, such as success (200), unauthorized (401), forbidden (403), and not found (404). Each status code triggers a specific response, ensuring the user is informed of the outcome of their request."
   ]
  },
  {
   "cell_type": "code",
   "execution_count": null,
   "metadata": {
    "vscode": {
     "languageId": "javascript"
    }
   },
   "outputs": [],
   "source": [
    "if (response.ok) {\n",
    "    // Successful login logic\n",
    "  } else if (response.status === 401) {\n",
    "    // Handle unauthorized access\n",
    "  } else if (response.status === 403) {\n",
    "    // Handle forbidden access\n",
    "  } else if (response.status === 404) {\n",
    "    // Handle not found\n",
    "  }  "
   ]
  },
  {
   "cell_type": "code",
   "execution_count": null,
   "metadata": {
    "vscode": {
     "languageId": "javascript"
    }
   },
   "outputs": [],
   "source": [
    "'https://drishyamody.github.io/DJAKTri2//2023/01/22/SASS_Javascript_Login.html'"
   ]
  }
 ],
 "metadata": {
  "kernelspec": {
   "display_name": "Python 3",
   "language": "python",
   "name": "python3"
  },
  "language_info": {
   "codemirror_mode": {
    "name": "ipython",
    "version": 3
   },
   "file_extension": ".py",
   "mimetype": "text/x-python",
   "name": "python",
   "nbconvert_exporter": "python",
   "pygments_lexer": "ipython3",
   "version": "3.11.4"
  }
 },
 "nbformat": 4,
 "nbformat_minor": 2
}
