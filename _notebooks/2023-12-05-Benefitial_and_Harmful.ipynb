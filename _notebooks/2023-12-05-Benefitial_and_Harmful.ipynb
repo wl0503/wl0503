{
 "cells": [
  {
   "cell_type": "markdown",
   "metadata": {},
   "source": [
    "---\n",
    "toc: true\n",
    "comments: true\n",
    "layout: post\n",
    "title: Benefitial and Harmful Effects\n",
    "description: Team teach about beneficial and harmful effects\n",
    "courses: { compsci: {week: 15} }\n",
    "type: hacks\n",
    "---"
   ]
  },
  {
   "cell_type": "markdown",
   "metadata": {},
   "source": [
    "## Programming effects\n",
    "Programming, like any other field, has both beneficial and potentially harmful aspects. The more that programming advances, the more we have to discuss benefits and harmful effects that it brings to society."
   ]
  },
  {
   "cell_type": "markdown",
   "metadata": {},
   "source": [
    "## Example of Program with both benefitial and harmful effects"
   ]
  },
  {
   "cell_type": "code",
   "execution_count": 11,
   "metadata": {},
   "outputs": [
    {
     "name": "stdout",
     "output_type": "stream",
     "text": [
      "Invalid input. Please enter a valid 24-hour time.\n"
     ]
    }
   ],
   "source": [
    "    # Automated phone system of a customer service line for a major company\n",
    "    def check_business_hours(hour):\n",
    "        return 8 <= hour < 18\n",
    "\n",
    "    def main():\n",
    "        try:\n",
    "            user_input = input(\"Please enter the current time (24-hour format, e.g., 14 for 2:00 PM): \")\n",
    "            current_time = int(user_input)\n",
    "\n",
    "            if check_business_hours(current_time):\n",
    "                print(\"You are being connected to customer service.\")\n",
    "            else:\n",
    "                print(\"Sorry, the business is closed at the moment. Please call back during business hours (8 am to 6 pm).\")\n",
    "\n",
    "        except ValueError:\n",
    "            print(\"Invalid input. Please enter a valid 24-hour time.\")\n",
    "\n",
    "    if __name__ == \"__main__\":\n",
    "        main()"
   ]
  },
  {
   "cell_type": "markdown",
   "metadata": {},
   "source": [
    "## Beneficial effects: \n",
    "- It saves time for both parties as they limit the hours that a worker needs to answer calls for the company. \n",
    "- It checks whether the entered time is within the business hours (8 am to 6 pm). This ensures that customers are only connected to customer service during operational hours.\n",
    "## Negative effects:\n",
    "- The time may not be versatile for people in different time zones.  \n",
    "- The system lacks customization options such as providing services available outside business hours such as offering automated assistance, or redirecting to online support resources."
   ]
  },
  {
   "cell_type": "markdown",
   "metadata": {},
   "source": [
    "## The benefits and harmful effects of a Multirotor\n",
    "A multirotors also known as a drone, is a type of rotorcraft that has multiple rotors. Inventions such as these are the same as code and have harmful and beneficial effects.\n",
    "\n",
    "Benefits: Deliveries, finding lost people, aereal photography is easy.\n",
    "Harmful: Flying in unregulated zones is illegal and dangerous, privacy concerns."
   ]
  },
  {
   "cell_type": "markdown",
   "metadata": {},
   "source": [
    "## Popcorn Hack 1: Name one beneficial and harmful effect of a Wii controller. (hint: it can be a physical harmful effect)\n",
    "Benefit: You can play with the wii controller\n",
    "\n",
    "Effect: your eyes will be spoiled if you play too much with the wii controller"
   ]
  },
  {
   "cell_type": "markdown",
   "metadata": {},
   "source": [
    "## Computing innovations can have impacts beyond their intended effects"
   ]
  },
  {
   "cell_type": "markdown",
   "metadata": {},
   "source": [
    "## Example 1: The internet\n",
    "The internet was originally created for scientists to easily share information remotely without needing to send or receive mail from one another. Nowadays, many people use the internet more than they sleep, as the internet has become an integral part of our lives in many ways. Think about how often you use social media, or do school assignments online, or send a simple email. Our use of the internet can cultivate dopamine feedback loops, such as when your crush likes your post on instagram, you get a snap back from that cute girl, or you find a funny TikTok that makes you laugh hysterically. These make us want to seek out these feelings more and more and experience those seconds of happiness. These effects of the internet lead to people having major issues like sleep deprivation, depression, and anxiety.\n",
    "\n",
    "- Original Purpose:\n",
    "    - Created for scientists to share information remotely.\n",
    "    - Eliminated the need for physical mail in communication.\n",
    "- Contemporary Usage:\n",
    "    - Integral part of daily life.\n",
    "    - Extensive use for social media, school assignments, emails.\n",
    "- Impact on Well-being:\n",
    "    - Potential for dopamine feedback loops.\n",
    "    - Examples: Social media likes, Snapchat responses, TikTok enjoyment.\n",
    "- Consequences:\n",
    "    - Increased internet use may lead to sleep deprivation.\n",
    "    - Associated with higher rates of depression and anxiety."
   ]
  },
  {
   "cell_type": "markdown",
   "metadata": {},
   "source": [
    "## Popcorn Hack 2: What 3 apps do you hae the most screentime on and how much are you on it? \n",
    "1: Spotify (1hour)\n",
    "2: DNHS canvas page (50 mins)\n",
    "3: Youtube (30mins)"
   ]
  },
  {
   "cell_type": "markdown",
   "metadata": {},
   "source": [
    "## Example 2: Microtransactions\n",
    "Definition: a payment of very small value, especially for a special feature of a product such as a video game\n",
    "\n",
    "- Original Purpose:\n",
    "    - Free game access, purchase virtual extras.\n",
    "- Usage:\n",
    "    - Common in free-to-play games, revenue for developers.\n",
    "- Deviation:\n",
    "    - Pay-to-Win, aggressive tactics, loot boxes.\n",
    "    - Microtransactions may reduce ads but imply paywalls.\n",
    "- Concerns:\n",
    "    - Debates on industry impact, ethics.\n",
    "    - Mixed player views: support vs. criticism.\n",
    "- Ongoing:\n",
    "    - Continuous industry debates."
   ]
  },
  {
   "cell_type": "markdown",
   "metadata": {},
   "source": [
    "## Example 3: Artificial Intelligence\n",
    "\n",
    "### What is AI?\n",
    "\n",
    "Artificial Intelligence (AI) is about making computers do tasks that typically require human intelligence, like learning, problem-solving, and understanding language.\n",
    "\n",
    "### Beneficial Effects of AI:\n",
    "\n",
    "1. **Automation and Efficiency:**\n",
    "   - AI helps with repetitive tasks, making things faster and freeing up time for more interesting work.\n",
    "\n",
    "2. **Medical Advancements:**\n",
    "   - AI assists in medical tasks, improving diagnosis, treatment plans, and drug discovery.\n",
    "\n",
    "3. **Enhanced Customer Experience:**\n",
    "   - AI-powered chatbots provide quick and personalized customer support.\n",
    "\n",
    "4. **Innovations in Education:**\n",
    "   - AI creates personalized learning experiences for students.\n",
    "\n",
    "5. **Predictive Analytics:**\n",
    "   - AI analyzes data to make predictions, helping businesses make better decisions.\n",
    "\n",
    "### Harmful Effects of AI:\n",
    "\n",
    "1. **Job Displacement:**\n",
    "   - Automation by AI can lead to job loss in some industries.\n",
    "\n",
    "2. **Bias and Fairness Issues:**\n",
    "   - AI systems might have biases, causing unfair outcomes.\n",
    "\n",
    "3. **Privacy Concerns:**\n",
    "   - AI use in surveillance raises concerns about privacy.\n",
    "\n",
    "4. **Autonomous Weapons:**\n",
    "   - AI-powered weapons raise ethical questions about their use in warfare.\n",
    "\n",
    "5. **Dependency on Technology:**\n",
    "   - Relying too much on AI may lead to a loss of human skills and critical thinking."
   ]
  },
  {
   "cell_type": "markdown",
   "metadata": {},
   "source": [
    "## Homework Hack: Come up with a Program with a beneficial and harmful effects. (You don't have to code it, but your ideas has to be detailed and organized)"
   ]
  },
  {
   "cell_type": "code",
   "execution_count": 10,
   "metadata": {},
   "outputs": [
    {
     "name": "stdout",
     "output_type": "stream",
     "text": [
      "you failed, you ended up with the grade C or lower than it\n",
      "60\n"
     ]
    }
   ],
   "source": [
    "userInput = int(input(\"What did you get on the final test?: \"))\n",
    "\n",
    "if userInput > 90:\n",
    "    print(\"Good job!, you ended up with A in this class\")\n",
    "elif 70 <= userInput <= 90:\n",
    "    print(\"Not bad, but you should have tried harder\")\n",
    "else:\n",
    "    print(\"you failed, you ended up with the grade C or lower than it\")\n",
    "\n",
    "print(userInput)\n",
    "\n",
    "## Beneficial effect: if the student gets higher score than 90, they successed in the class, and they would be glad\n",
    "## Harmful effect: if the student gets lower score than 70, they failed in the class, and they would be sad\n",
    "\n"
   ]
  }
 ],
 "metadata": {
  "kernelspec": {
   "display_name": "Python 3",
   "language": "python",
   "name": "python3"
  },
  "language_info": {
   "codemirror_mode": {
    "name": "ipython",
    "version": 3
   },
   "file_extension": ".py",
   "mimetype": "text/x-python",
   "name": "python",
   "nbconvert_exporter": "python",
   "pygments_lexer": "ipython3",
   "version": "3.9.6"
  }
 },
 "nbformat": 4,
 "nbformat_minor": 2
}
