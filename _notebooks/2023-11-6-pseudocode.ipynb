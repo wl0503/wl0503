{
 "cells": [
  {
   "cell_type": "markdown",
   "metadata": {},
   "source": [
    "---\n",
    "toc: true\n",
    "comments: true\n",
    "layout: post\n",
    "title: Python Pseudo code\n",
    "description: \n",
    "type: tangibles\n",
    "courses: { compsci: {week: 10} }\n",
    "---\n",
    "\n",
    "## Python Pseudo code note\n",
    "- Python pseudocode is a simplified and human-readable representation of a Python program's logic, using plain language and simple programming constructs, designed to outline the steps and algorithms before writing actual Python code. It serves as a high-level description that aids in the planning, communication, and understanding of code without the need for specific Python syntax."
   ]
  },
  {
   "cell_type": "code",
   "execution_count": 1,
   "metadata": {},
   "outputs": [
    {
     "name": "stdout",
     "output_type": "stream",
     "text": [
      "The sum of even numbers from 1 to 100 is 2550\n"
     ]
    }
   ],
   "source": [
    "\n",
    "sum = 0\n",
    "\n",
    "N = 100\n",
    "\n",
    "for num in range(1, N + 1):\n",
    "    if num % 2 == 0:\n",
    "        sum += num\n",
    "\n",
    "print(\"The sum of even numbers from 1 to\", N, \"is\", sum)\n"
   ]
  },
  {
   "cell_type": "markdown",
   "metadata": {},
   "source": [
    "## Pseudo code explanation \n",
    "\n",
    "- Initialize sum to 0\n",
    "Initialize a variable N to the maximum value\n",
    "For each number from 1 to N:\n",
    "  If the number is even:\n",
    "    Add the number to sum\n",
    "End For\n",
    "Output the sum\n"
   ]
  }
 ],
 "metadata": {
  "kernelspec": {
   "display_name": "Python 3",
   "language": "python",
   "name": "python3"
  },
  "language_info": {
   "codemirror_mode": {
    "name": "ipython",
    "version": 3
   },
   "file_extension": ".py",
   "mimetype": "text/x-python",
   "name": "python",
   "nbconvert_exporter": "python",
   "pygments_lexer": "ipython3",
   "version": "3.11.6"
  }
 },
 "nbformat": 4,
 "nbformat_minor": 2
}
