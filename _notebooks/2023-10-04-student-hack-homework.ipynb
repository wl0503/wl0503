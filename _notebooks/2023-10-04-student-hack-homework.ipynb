{
 "cells": [
  {
   "cell_type": "code",
   "execution_count": 2,
   "metadata": {},
   "outputs": [
    {
     "name": "stdout",
     "output_type": "stream",
     "text": [
      "15\n",
      "['AP csp', 'AP calc', 'AP bio']\n",
      "False\n",
      "human\n"
     ]
    }
   ],
   "source": [
    "# variable 1\n",
    "numBalls = 15\n",
    "print(numBalls)\n",
    "\n",
    "# variable 2\n",
    "currentClasses = [\"AP csp\", \"AP calc\", \"AP bio\"]\n",
    "print(currentClasses)\n",
    "\n",
    "# variable 3\n",
    "dogeatscats = False\n",
    "print(dogeatscats)\n",
    "\n",
    "# variable 4\n",
    "William = \"human\"\n",
    "print(William)\n",
    "\n",
    "\n",
    "\n",
    "\n"
   ]
  },
  {
   "cell_type": "code",
   "execution_count": 10,
   "metadata": {},
   "outputs": [
    {
     "name": "stdout",
     "output_type": "stream",
     "text": [
      "<class 'int'>\n",
      "15\n",
      "<class 'str'>\n",
      "<class 'list'>\n",
      "[\"AP csp\", \"AP calc\", \"AP bio\"]\n",
      "<class 'str'>\n",
      "<class 'bool'>\n",
      "false\n",
      "<class 'str'>\n",
      "<class 'str'>\n"
     ]
    }
   ],
   "source": [
    "import json\n",
    "numBalls = 15\n",
    "print(type(numBalls))\n",
    "a = json.dumps(numBalls)\n",
    "print(a)\n",
    "print(type(a))\n",
    "\n",
    "currentClasses = [\"AP csp\", \"AP calc\", \"AP bio\"]\n",
    "print(type(currentClasses))\n",
    "b = json.dumps(currentClasses)\n",
    "print(b)\n",
    "print(type(b))\n",
    "\n",
    "dogeatscats = False\n",
    "print(type(dogeatscats))\n",
    "c = json.dumps(dogeatscats)\n",
    "print(c)\n",
    "print(type(c))\n",
    "\n",
    "William = \"human\"\n",
    "print(type(William))\n",
    "# Human is already string, so doesnt need to use json here. \n",
    "\n",
    "\n",
    "\n",
    "\n"
   ]
  }
 ],
 "metadata": {
  "kernelspec": {
   "display_name": "Python 3",
   "language": "python",
   "name": "python3"
  },
  "language_info": {
   "codemirror_mode": {
    "name": "ipython",
    "version": 3
   },
   "file_extension": ".py",
   "mimetype": "text/x-python",
   "name": "python",
   "nbconvert_exporter": "python",
   "pygments_lexer": "ipython3",
   "version": "3.10.12"
  },
  "orig_nbformat": 4
 },
 "nbformat": 4,
 "nbformat_minor": 2
}
