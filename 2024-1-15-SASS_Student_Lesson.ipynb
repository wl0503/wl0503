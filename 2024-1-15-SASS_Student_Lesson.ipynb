{
 "cells": [
  {
   "cell_type": "markdown",
   "metadata": {},
   "source": [
    "---\n",
    "toc: true\n",
    "comments: false\n",
    "layout: post\n",
    "title: Introduction to SASS\n",
    "description: SASS Student Lesson\n",
    "type: tangibles \n",
    "courses: { compsci: {week: 19} }\n",
    "image: images/1024px-Sass_Logo_Color.svg.png\n",
    "---"
   ]
  },
  {
   "cell_type": "markdown",
   "metadata": {},
   "source": [
    "<h2> SASS: Syntactically Awesome Stylesheets</h2><br>"
   ]
  },
  {
   "cell_type": "markdown",
   "metadata": {},
   "source": [
    "<center><img src= \"https://upload.wikimedia.org/wikipedia/commons/thumb/9/96/Sass_Logo_Color.svg/1024px-Sass_Logo_Color.svg.png\" width =\"200\" height = \"100\"></center>"
   ]
  },
  {
   "cell_type": "markdown",
   "metadata": {},
   "source": [
    "<br>\n",
    "\n",
    "<h2>What is SASS?</h2>\n",
    "\n",
    "SASS is a preprocessor scripting language that is interpreted or compiled into CSS. Any preprocessor language takes input data and converts it to an output that’s used as input by another program. In other words when you run a SASS code you are actually converting your code into CSS which is then used by the browser. "
   ]
  },
  {
   "cell_type": "markdown",
   "metadata": {},
   "source": [
    "<h2>Understanding differences: CSS V/S SASS</h2>\n",
    "\n",
    "- CSS: Cascading style sheets or CSS is the standard styling language for the web which provides a simple and direct syntax for styling HTML elements.\n",
    "\n",
    "- However , it lacks certain features found in preprocessors like Sass, making it less understandable and difficult to work with."
   ]
  },
  {
   "cell_type": "code",
   "execution_count": null,
   "metadata": {
    "vscode": {
     "languageId": "html"
    }
   },
   "outputs": [],
   "source": [
    "// Basic CSS Code\n",
    "\n",
    "body {\n",
    "  font-family: Arial, sans-serif;\n",
    "  background-color: #f0f0f0;\n",
    "}\n",
    "\n",
    "header {\n",
    "  background-color: #333;\n",
    "  color: white;\n",
    "  padding: 10px;\n",
    "}"
   ]
  },
  {
   "cell_type": "markdown",
   "metadata": {},
   "source": [
    "- SASS: SASS is a powerful preprocessor scripting language that enhances CSS with advanced features. Sass enhances the capabilities of CSS by introducing variables, nesting, and mixins. \n",
    "- Sass code needs to be compiled into standard CSS for browsers to interpret and this provides a more efficient way to style pages.\n"
   ]
  },
  {
   "cell_type": "code",
   "execution_count": null,
   "metadata": {
    "vscode": {
     "languageId": "html"
    }
   },
   "outputs": [],
   "source": [
    "// Basic SASS Code\n",
    "\n",
    "$font-family: Arial, sans-serif;\n",
    "$background-color: #f0f0f0;\n",
    "$main-color: #333;\n",
    "$link-color: #444;\n",
    "$border-color: #ddd;\n",
    "\n",
    "body {\n",
    "  font-family: $font-family;\n",
    "  background-color: $background-color;\n",
    "}\n",
    "\n",
    "header {\n",
    "  background-color: $main-color;\n",
    "  color: white;\n",
    "  padding: 10px;\n",
    "}"
   ]
  },
  {
   "cell_type": "markdown",
   "metadata": {},
   "source": [
    "### <font color = \"Green\">Popcorn Hack 1:</font> \n",
    "\n",
    "Write a line of code to compare CSS and SASS. Must be similar is both languages. Show how SASS and CSS are similar but different.\n",
    "\n",
    "<mark>// Your code here</mark>"
   ]
  },
  {
   "cell_type": "markdown",
   "metadata": {},
   "source": [
    "<h2>Benifits of SASS over CSS</h2>\n",
    "\n",
    "1. Improved Code Organization\n",
    "\n",
    "     - Nesting Capabilities:  Sass organizes styles like a neat notebook, mirroring HTML structure for clarity.\n",
    "     - Modular Approach: Break styles into smaller files, like building blocks, for a cleaner and more organized project.\n",
    "\n",
    "2. Maintainability\n",
    "\n",
    "     - Use of Variables: Easily update colors and fonts with name-tag-like variables.\n",
    "     - Mixins for Reusable Code: Create styles once, reuse them everywhere.\n",
    "     - Extend/Inheritance: Share styles among elements to avoid repetition.\n",
    "\n",
    "3. Advanced Features\n",
    "\n",
    "     - Control Directives: Add conditions to styles for more flexibility.\n",
    "     - Built-in Functions: Use Sass tools for colors and math in styles.    \n",
    "     - Compatibility: Sass handles browser differences, ensuring a consistent look across all browsers.\n",
    "\n",
    "4. Preprocessing:\n",
    "\n",
    "     - Compilation: Translate Sass to standard CSS for browsers.\n",
    "     - Usage: Command Sass to compile styles effortlessly.\n",
    "     - Watching Files: Sass auto-updates styles as you make changes, simplifying the process."
   ]
  },
  {
   "cell_type": "markdown",
   "metadata": {},
   "source": [
    "<h2>Nesting</h2>"
   ]
  },
  {
   "cell_type": "markdown",
   "metadata": {},
   "source": [
    "<center><img src = \"https://www.lyricbirdfood.com/media/1059/gettyimages-502665425.jpg?crop=0.43408360128617363,0.23585711414790997,0.083601286173633438,0.38690356568672479&cropmode=percentage&width=700&height=365&rnd=132084484540000000\" width =\"300\" height= \"150\"></center>"
   ]
  },
  {
   "cell_type": "markdown",
   "metadata": {},
   "source": [
    "No, not that type of nesting\n",
    "\n",
    "-<mark> Nesting:</mark> Nesting in coding, especially in stylesheets like SASS, is a way of organizing code by putting one selector inside another. Sort of a hirarchy in structure."
   ]
  },
  {
   "cell_type": "code",
   "execution_count": null,
   "metadata": {
    "vscode": {
     "languageId": "html"
    }
   },
   "outputs": [],
   "source": [
    "// Nesting example\n",
    "\n",
    "article {\n",
    "  border: 1px solid #ccc;\n",
    "\n",
    "  h2 {\n",
    "    font-size: 20px;\n",
    "    color: #555;\n",
    "  }\n",
    "\n",
    "  p {\n",
    "    font-size: 16px;\n",
    "    color: #333;\n",
    "    margin-bottom: 10px;\n",
    "  }\n",
    "\n",
    "  a {\n",
    "    text-decoration: underline;\n",
    "    color: #007bff;\n",
    "  }\n",
    "}"
   ]
  },
  {
   "cell_type": "markdown",
   "metadata": {},
   "source": [
    "<h2>Advanced SASS</h2>"
   ]
  },
  {
   "cell_type": "markdown",
   "metadata": {},
   "source": [
    "1. Operators\n",
    "    - Operators act as powerful tools in Python and SASS, allowing you to perform operations like checking equality, basic arithmetic (addition, subtraction, multiplication, and division), and in SASS, combining and rearranging values. They're like the building blocks that help you manipulate and transform data in your code, making it flexible and dynamic. "
   ]
  },
  {
   "cell_type": "markdown",
   "metadata": {},
   "source": [
    "**Operators Reference Table**\n",
    "\n",
    "<center>\n",
    "\n",
    "<table>\n",
    "  <tr>\n",
    "    <th>Operator</th>\n",
    "    <th>Definition</th>\n",
    "  </tr>\n",
    "  <tr>\n",
    "    <td>==</td>\n",
    "    <td>Check if two values are equal</td>\n",
    "  </tr>\n",
    "  <tr>\n",
    "    <td>!=</td>\n",
    "    <td>Check if two values are not equal</td>\n",
    "  </tr>\n",
    "  <tr>\n",
    "    <td>+</td>\n",
    "    <td>Add two values together</td>\n",
    "  </tr>\n",
    "  <tr>\n",
    "    <td>-</td>\n",
    "    <td>Subtract two values</td>\n",
    "  </tr>\n",
    "  <tr>\n",
    "    <td>*</td>\n",
    "    <td>Multiply two values</td>\n",
    "  </tr>\n",
    "  <tr>\n",
    "    <td>/</td>\n",
    "    <td>Divide two values</td>\n",
    "  </tr>\n",
    "  <tr>\n",
    "    <td>%</td>\n",
    "    <td>Find the remainder of two values</td>\n",
    "  </tr>\n",
    "  <tr>\n",
    "    <td>&lt;</td>\n",
    "    <td>Check if one value is less than another</td>\n",
    "  </tr>\n",
    "  <tr>\n",
    "    <td>&gt;</td>\n",
    "    <td>Check if one value is greater than another</td>\n",
    "  </tr>\n",
    "  <tr>\n",
    "    <td>&lt;=</td>\n",
    "    <td>Check if one value is less than or equal to another</td>\n",
    "  </tr>\n",
    "  <tr>\n",
    "    <td>&gt;=</td>\n",
    "    <td>Check if one value is greater than or equal to another</td>\n",
    "  </tr>\n",
    "</table>\n",
    "\n",
    "</center>\n"
   ]
  },
  {
   "cell_type": "code",
   "execution_count": null,
   "metadata": {
    "vscode": {
     "languageId": "html"
    }
   },
   "outputs": [],
   "source": [
    "// Variables\n",
    "$firstName: \"John\";\n",
    "$lastName: \"Doe\";\n",
    "\n",
    "// String concatenation using whitespace\n",
    "$fullName: $firstName + \" \" + $lastName;\n",
    "\n",
    "#testing {\n",
    "  content: $fullName;\n",
    "}"
   ]
  },
  {
   "cell_type": "markdown",
   "metadata": {},
   "source": [
    "**Intended Answer:**\n",
    "content: John Doe\n"
   ]
  },
  {
   "cell_type": "markdown",
   "metadata": {},
   "source": [
    "2. Conditional Statments:\n",
    "    - Conditional statements in SASS work and function the same way they do in Python and Javascript. Conditional statements are used to perform different actions based on different conditions."
   ]
  },
  {
   "cell_type": "code",
   "execution_count": null,
   "metadata": {
    "vscode": {
     "languageId": "html"
    }
   },
   "outputs": [],
   "source": [
    "// example code\n",
    "\n",
    "$grade: 85;\n",
    "\n",
    ".button {\n",
    "  @if $grade >= 90 {\n",
    "    background-color: green;\n",
    "    color: white;\n",
    "    border: 2px solid darkgreen;\n",
    "  } @else if $grade >= 80 {\n",
    "    background-color: yellow;\n",
    "    color: darkgray;\n",
    "    border: 2px solid goldenrod;\n",
    "  } @else {\n",
    "    background-color: red;\n",
    "    color: white;\n",
    "    border: 2px solid darkred;\n",
    "  }\n",
    "}"
   ]
  },
  {
   "cell_type": "markdown",
   "metadata": {},
   "source": [
    "### <font color = \"Green\">Popcorn Hack 2:</font> \n",
    "\n",
    "Write a simple SASS code to highlight a message box according to it's result, green for success, yellow for warning and red for an error. Use the variable \"$message-type\". Make sure to use @if, @else and @else if statements.\n",
    "\n",
    "<mark>// Your code here</mark>"
   ]
  },
  {
   "cell_type": "markdown",
   "metadata": {},
   "source": [
    "3. Loops in SASS\n",
    "    - In SASS, loops are facilitated by the <mark>@for, @while, and @each decorators</mark>. Similar to other programming languages, loops enable the repetition of a code block either for a specified number of iterations or until a particular condition is satisfied. \n",
    "        - For loops are iterate through a given value, like a list or a range of numbers.\n",
    "        - While loops iterate through a block of code until a specific condition is met"
   ]
  },
  {
   "cell_type": "code",
   "execution_count": null,
   "metadata": {
    "vscode": {
     "languageId": "html"
    }
   },
   "outputs": [],
   "source": [
    "// Example code\n",
    "\n",
    "$alignments: left, center, right;\n",
    "\n",
    "@each $alignment in $alignments {\n",
    "  .text-#{$alignment} {\n",
    "    text-align: $alignment;\n",
    "  }\n",
    "}"
   ]
  },
  {
   "cell_type": "code",
   "execution_count": null,
   "metadata": {
    "vscode": {
     "languageId": "html"
    }
   },
   "outputs": [],
   "source": [
    "// Expected output\n",
    "\n",
    ".text-left {\n",
    "    text-align: left;\n",
    "  }\n",
    "  \n",
    "  .text-center {\n",
    "    text-align: center;\n",
    "  }\n",
    "  \n",
    "  .text-right {\n",
    "    text-align: right;\n",
    "  }"
   ]
  },
  {
   "cell_type": "markdown",
   "metadata": {},
   "source": [
    "### <font color = \"Green\">Popcorn Hack 3:</font> \n",
    "\n",
    "Write a simple SASS code that defines three different font sizes, which iterates over the same line distance of 1.5.\n",
    "\n",
    "<mark>// Your code here</mark>"
   ]
  },
  {
   "cell_type": "markdown",
   "metadata": {},
   "source": [
    "<h2>SASS Functions</h2>"
   ]
  },
  {
   "cell_type": "markdown",
   "metadata": {},
   "source": [
    "Last but not the least SASS functions. \n",
    "\n",
    "- SASS functions are invalvuable tools in stylesheets. They help perform complex calcualtions and manipulate data as well as generate content dynamically. Some functions are built in but there are also a few that you can make on your own. \n",
    "- They can be used to perform arithmetic operations, manipulate colors, work with strings, and more.\n"
   ]
  },
  {
   "cell_type": "markdown",
   "metadata": {},
   "source": [
    "**Built in Functions**"
   ]
  },
  {
   "cell_type": "markdown",
   "metadata": {},
   "source": [
    "1. Math Functions\n",
    "    - SASS has a range of functions that help perform complex math problems in code\n",
    "\n",
    "2. Color Functions\n",
    "    - Functions allow you to manipulate colors in different ways\n",
    "\n",
    "3. String Functions\n",
    "    - SASS provides a variety of string functions that allow you to manipulate strings."
   ]
  },
  {
   "cell_type": "markdown",
   "metadata": {},
   "source": [
    "**Creating Custom Functions**\n",
    "\n",
    "In addition to built in functions one can also create custom functions with pre exisiting operators and the @return function.\n"
   ]
  },
  {
   "cell_type": "code",
   "execution_count": null,
   "metadata": {
    "vscode": {
     "languageId": "html"
    }
   },
   "outputs": [],
   "source": [
    "// Example of a complete SASS Code from CSS of Previous CPT Project\n",
    "\n",
    "$main-bg-color: #8ec1da;\n",
    "$card-bg-color: rgba(128, 128, 128, 0.5);\n",
    "$button-bg-color: rgba(38, 152, 255, 0.5);\n",
    "$button-hover-bg-color: rgba(38, 152, 255, 0.3) !important;\n",
    "$font-family: Verdana, sans-serif;\n",
    "$button-size: 10%;\n",
    "$box-shadow: 0 0 10px rgba(0, 0, 0, 0.2);\n",
    "\n",
    "body {\n",
    "  width: 100%;\n",
    "  height: 100%;\n",
    "  margin: 0em 0%;\n",
    "  background-color: $main-bg-color;\n",
    "  background-image: url(\"https://static.vecteezy.com/system/resources/previews/016/124/733/non_2x/poker-and-casino-playing-card-black-background-vector.jpg\");\n",
    "  background-position: center bottom;\n",
    "}\n",
    "\n",
    ".title, .playercardsbox, .dealercardsbox, .result, .hitbutton, .standbutton, .resetbutton, .playersumbox, .dealersumbox {\n",
    "  position: fixed;\n",
    "  transform: translate(-50%, -50%);\n",
    "  font-family: $font-family;\n",
    "}\n",
    "\n",
    ".playercardsbox, .dealercardsbox, .playersumbox, .dealersumbox {\n",
    "  background-color: $card-bg-color;\n",
    "  padding: 20px;\n",
    "  border-radius: 10px;\n",
    "  box-shadow: $box-shadow;\n",
    "  font-size: 30px;\n",
    "}\n",
    "\n",
    ".result {\n",
    "  top: 34%;\n",
    "  font-size: 150px;\n",
    "  color: red;\n",
    "  display: none;\n",
    "}\n",
    "\n",
    ".hitbutton, .standbutton, .resetbutton {\n",
    "  left: 50%;\n",
    "  background-color: $button-bg-color;\n",
    "  border: none;\n",
    "  width: $button-size;\n",
    "  height: $button-size;\n",
    "  border-radius: 10px;\n",
    "  font-size: 30px;\n",
    "}\n",
    "\n",
    ".hitbutton:hover, .standbutton:hover, .resetbutton:hover {\n",
    "  background-color: $button-hover-bg-color;\n",
    "}\n",
    "\n",
    ".standbutton { top: 72%; }\n",
    ".hitbutton { top: 60%; }\n",
    ".resetbutton { top: 84%; display: block; }"
   ]
  },
  {
   "cell_type": "markdown",
   "metadata": {},
   "source": [
    "<h2>How does HTML code use SASS??</h2>"
   ]
  },
  {
   "cell_type": "markdown",
   "metadata": {},
   "source": [
    "In HTML, you don't directly use Sass; instead, you use the compiled CSS generated from Sass. "
   ]
  },
  {
   "cell_type": "markdown",
   "metadata": {},
   "source": [
    "<h4>Steps to use predefined SASS</h4>"
   ]
  },
  {
   "cell_type": "markdown",
   "metadata": {},
   "source": [
    "1. Intall SASS: Before you use SASS you need to install it."
   ]
  },
  {
   "cell_type": "code",
   "execution_count": null,
   "metadata": {
    "vscode": {
     "languageId": "html"
    }
   },
   "outputs": [],
   "source": [
    "npm install -g sass"
   ]
  },
  {
   "cell_type": "markdown",
   "metadata": {},
   "source": [
    "2. Create SASS file: write you SASS file code and be sure to give it the extension of \".scss\""
   ]
  },
  {
   "cell_type": "code",
   "execution_count": null,
   "metadata": {
    "vscode": {
     "languageId": "html"
    }
   },
   "outputs": [],
   "source": [
    "// Example sass\n",
    "\n",
    "$primary-color: #3498db;\n",
    "\n",
    "body {\n",
    "  background-color: $primary-color;\n",
    "}\n"
   ]
  },
  {
   "cell_type": "markdown",
   "metadata": {},
   "source": [
    "3. Compile SASS into CSS: Use installed SASS compiled to convert the .scss file into a .css file."
   ]
  },
  {
   "cell_type": "code",
   "execution_count": null,
   "metadata": {
    "vscode": {
     "languageId": "html"
    }
   },
   "outputs": [],
   "source": [
    "sass input.scss output.css"
   ]
  },
  {
   "cell_type": "markdown",
   "metadata": {},
   "source": [
    "4. Linked compiled CSS into the HTML/JS project code"
   ]
  },
  {
   "cell_type": "code",
   "execution_count": null,
   "metadata": {
    "vscode": {
     "languageId": "html"
    }
   },
   "outputs": [],
   "source": [
    "<html>\n",
    "<head>\n",
    "  <!--Meta data here -->\n",
    "\n",
    "  <link rel=\"stylesheet\" href=\"output.css\">\n",
    "\n",
    "  <title>Project Page</title>\n",
    "</head>\n",
    "<body>\n",
    " <!--HTML stuff-->\n",
    "</body>\n",
    "</html>"
   ]
  },
  {
   "cell_type": "markdown",
   "metadata": {},
   "source": [
    "### <font color = \"Green\">Pop Corn Hack: 4</font> \n",
    "\n",
    "1. Using the steps above, create am SCSS file with SASS code for a simple button, convert the file to a .css and link it into a new HTML file. The final output needs to be a button with a color of your choice.\n",
    "\n",
    "<mark>// Your code here</mark>"
   ]
  }
 ],
 "metadata": {
  "kernelspec": {
   "display_name": "Python 3",
   "language": "python",
   "name": "python3"
  },
  "language_info": {
   "codemirror_mode": {
    "name": "ipython",
    "version": 3
   },
   "file_extension": ".py",
   "mimetype": "text/x-python",
   "name": "python",
   "nbconvert_exporter": "python",
   "pygments_lexer": "ipython3",
   "version": "3.11.6"
  },
  "orig_nbformat": 4
 },
 "nbformat": 4,
 "nbformat_minor": 2
}
